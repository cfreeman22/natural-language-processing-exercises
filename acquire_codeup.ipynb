{
 "cells": [
  {
   "cell_type": "markdown",
   "id": "20caa24d",
   "metadata": {},
   "source": [
    "## Acquire"
   ]
  },
  {
   "cell_type": "code",
   "execution_count": 1,
   "id": "b76a0f7a",
   "metadata": {},
   "outputs": [],
   "source": [
    "import requests\n",
    "from bs4 import BeautifulSoup\n",
    "import pandas as pd\n",
    "from time import strftime"
   ]
  },
  {
   "cell_type": "code",
   "execution_count": 2,
   "id": "11957095",
   "metadata": {},
   "outputs": [],
   "source": [
    "response = requests.get(\"https://codeup.com/blog/\", headers={\"user-agent\": \"Codeup DS\"})\n",
    "soup = BeautifulSoup(response.text)"
   ]
  },
  {
   "cell_type": "code",
   "execution_count": 3,
   "id": "31ae3271",
   "metadata": {},
   "outputs": [
    {
     "data": {
      "text/plain": [
       "[<a class=\"more-link\" href=\"https://codeup.com/dallas-newsletter/codeup-dallas-open-house/\">read more</a>,\n",
       " <a class=\"more-link\" href=\"https://codeup.com/codeup-news/codeups-placement-team-continues-setting-records/\">read more</a>,\n",
       " <a class=\"more-link\" href=\"https://codeup.com/it-training/it-certifications-101/\">read more</a>,\n",
       " <a class=\"more-link\" href=\"https://codeup.com/cybersecurity/a-rise-in-cyber-attacks-means-opportunities-for-veterans-in-san-antonio/\">read more</a>,\n",
       " <a class=\"more-link\" href=\"https://codeup.com/codeup-news/use-your-gi-bill-benefits-to-land-a-job-in-tech/\">read more</a>,\n",
       " <a class=\"more-link\" href=\"https://codeup.com/tips-for-prospective-students/which-program-is-right-for-me-cyber-security-or-systems-engineering/\">read more</a>,\n",
       " <a class=\"more-link\" href=\"https://codeup.com/it-training/what-the-heck-is-system-engineering/\">read more</a>,\n",
       " <a class=\"more-link\" href=\"https://codeup.com/alumni-stories/from-speech-pathology-to-business-intelligence/\">read more</a>,\n",
       " <a class=\"more-link\" href=\"https://codeup.com/behind-the-billboards/boris-behind-the-billboards/\">read more</a>,\n",
       " <a class=\"more-link\" href=\"https://codeup.com/codeup-news/is-codeup-the-best-bootcamp-in-san-antonio-or-the-world/\">read more</a>,\n",
       " <a class=\"more-link\" href=\"https://codeup.com/codeup-news/codeup-launches-first-podcast-hire-tech/\">read more</a>,\n",
       " <a class=\"more-link\" href=\"https://codeup.com/tips-for-prospective-students/why-should-i-become-a-system-administrator/\">read more</a>,\n",
       " <a class=\"more-link\" href=\"https://codeup.com/codeup-news/codeup-candidate-for-accreditation/\">read more</a>,\n",
       " <a class=\"more-link\" href=\"https://codeup.com/codeup-news/codeup-takes-over-more-of-the-historic-vogue-building/\">read more</a>,\n",
       " <a class=\"more-link\" href=\"https://codeup.com/codeup-news/inclusion-at-codeup-during-pride-month-and-always/\">read more</a>]"
      ]
     },
     "execution_count": 3,
     "metadata": {},
     "output_type": "execute_result"
    }
   ],
   "source": [
    "soup.select('.more-link')"
   ]
  },
  {
   "cell_type": "code",
   "execution_count": 4,
   "id": "d3b55247",
   "metadata": {},
   "outputs": [
    {
     "data": {
      "text/plain": [
       "['https://codeup.com/dallas-newsletter/codeup-dallas-open-house/',\n",
       " 'https://codeup.com/codeup-news/codeups-placement-team-continues-setting-records/',\n",
       " 'https://codeup.com/it-training/it-certifications-101/',\n",
       " 'https://codeup.com/cybersecurity/a-rise-in-cyber-attacks-means-opportunities-for-veterans-in-san-antonio/',\n",
       " 'https://codeup.com/codeup-news/use-your-gi-bill-benefits-to-land-a-job-in-tech/',\n",
       " 'https://codeup.com/tips-for-prospective-students/which-program-is-right-for-me-cyber-security-or-systems-engineering/',\n",
       " 'https://codeup.com/it-training/what-the-heck-is-system-engineering/',\n",
       " 'https://codeup.com/alumni-stories/from-speech-pathology-to-business-intelligence/',\n",
       " 'https://codeup.com/behind-the-billboards/boris-behind-the-billboards/',\n",
       " 'https://codeup.com/codeup-news/is-codeup-the-best-bootcamp-in-san-antonio-or-the-world/',\n",
       " 'https://codeup.com/codeup-news/codeup-launches-first-podcast-hire-tech/',\n",
       " 'https://codeup.com/tips-for-prospective-students/why-should-i-become-a-system-administrator/',\n",
       " 'https://codeup.com/codeup-news/codeup-candidate-for-accreditation/',\n",
       " 'https://codeup.com/codeup-news/codeup-takes-over-more-of-the-historic-vogue-building/',\n",
       " 'https://codeup.com/codeup-news/inclusion-at-codeup-during-pride-month-and-always/']"
      ]
     },
     "execution_count": 4,
     "metadata": {},
     "output_type": "execute_result"
    }
   ],
   "source": [
    "links = [link['href'] for link in soup.select('.more-link')]\n",
    "links"
   ]
  },
  {
   "cell_type": "code",
   "execution_count": 5,
   "id": "e730d67c",
   "metadata": {},
   "outputs": [],
   "source": [
    "url = 'https://codeup.com/dallas-newsletter/codeup-dallas-open-house/'\n",
    "response = requests.get(url, headers={\"user-agent\": \"Codeup DS\"})\n",
    "soup = BeautifulSoup(response.text)"
   ]
  },
  {
   "cell_type": "code",
   "execution_count": 6,
   "id": "af8da4fb",
   "metadata": {},
   "outputs": [
    {
     "data": {
      "text/plain": [
       "'Come join us for the re-opening of our Dallas Campus with some drinks and snacks at Codeup! Curious about what our campus looks like? Click here to register for free\\nAbout this event\\nCome join us for the re-opening of our Dallas Campus with some drinks and snacks at Codeup!\\nCurious about what our campus looks like? Interested in our Web Development Career Accelerator? Keen to chat with an instructor or financial aid rep?\\nAt our Open House, we are here to answer all your questions!\\nMeet a Codeup instructor, who can help explain what’s taught in our classes and answer questions.\\nUnderstand how to join one of our upcoming cohort ( Dec. 6th).\\nDon’t miss this opportunity to learn more about how you can start the new year transitioning into a new, exciting career in tech. We’re here to answer any questions you may have about Codeup and your future.\\nTake the first step of your new career today and create your tomorrow!'"
      ]
     },
     "execution_count": 6,
     "metadata": {},
     "output_type": "execute_result"
    }
   ],
   "source": [
    "# content\n",
    "soup.select_one('.entry-content').text.strip()"
   ]
  },
  {
   "cell_type": "code",
   "execution_count": 7,
   "id": "80d596f0",
   "metadata": {},
   "outputs": [
    {
     "data": {
      "text/plain": [
       "'Codeup Dallas Open House'"
      ]
     },
     "execution_count": 7,
     "metadata": {},
     "output_type": "execute_result"
    }
   ],
   "source": [
    "#title\n",
    "title = soup.select_one('.entry-title').text\n",
    "title"
   ]
  },
  {
   "cell_type": "code",
   "execution_count": 8,
   "id": "8eadb7db",
   "metadata": {},
   "outputs": [
    {
     "data": {
      "text/plain": [
       "'Nov 30, 2021'"
      ]
     },
     "execution_count": 8,
     "metadata": {},
     "output_type": "execute_result"
    }
   ],
   "source": [
    "# published date\n",
    "published = soup.select_one('.published').text\n",
    "published"
   ]
  },
  {
   "cell_type": "code",
   "execution_count": 9,
   "id": "84e5971c",
   "metadata": {},
   "outputs": [],
   "source": [
    "def get_front_page_links():\n",
    "    \"\"\"\n",
    "    Short function to hit the codeup blog landing page and return a list of all the urls to further blog posts on the\n",
    "    page.\n",
    "    \"\"\"\n",
    "    response = requests.get(\"https://codeup.com/blog/\", headers={\"user-agent\": \"Codeup DS\"})\n",
    "    soup = BeautifulSoup(response.text)\n",
    "    links = [link.attrs[\"href\"] for link in soup.select(\".more-link\")]\n",
    "\n",
    "    return links\n",
    "\n",
    "def parse_codeup_blog_article(url):\n",
    "    \"Given a blog article url, extract the relevant information and return it as a dictionary.\"\n",
    "    response = requests.get(url, headers={\"user-agent\": \"Codeup DS\"})\n",
    "    soup = BeautifulSoup(response.text)\n",
    "    return {\n",
    "        \"title\": soup.select_one(\".entry-title\").text,\n",
    "        \"published\": soup.select_one(\".published\").text,\n",
    "        \"content\": soup.select_one(\".entry-content\").text.strip(),\n",
    "    }\n",
    "\n",
    "\n",
    "def get_blog_articles():\n",
    "    \"Returns a dataframe where each row is a blog post from the codeup blog landing page.\"\n",
    "    links = get_front_page_links()\n",
    "    df = pd.DataFrame([parse_codeup_blog_article(link) for link in links])\n",
    "    return df\n"
   ]
  },
  {
   "cell_type": "code",
   "execution_count": 10,
   "id": "ef3040ec",
   "metadata": {},
   "outputs": [
    {
     "data": {
      "text/html": [
       "<div>\n",
       "<style scoped>\n",
       "    .dataframe tbody tr th:only-of-type {\n",
       "        vertical-align: middle;\n",
       "    }\n",
       "\n",
       "    .dataframe tbody tr th {\n",
       "        vertical-align: top;\n",
       "    }\n",
       "\n",
       "    .dataframe thead th {\n",
       "        text-align: right;\n",
       "    }\n",
       "</style>\n",
       "<table border=\"1\" class=\"dataframe\">\n",
       "  <thead>\n",
       "    <tr style=\"text-align: right;\">\n",
       "      <th></th>\n",
       "      <th>title</th>\n",
       "      <th>published</th>\n",
       "      <th>content</th>\n",
       "    </tr>\n",
       "  </thead>\n",
       "  <tbody>\n",
       "    <tr>\n",
       "      <th>0</th>\n",
       "      <td>Codeup Dallas Open House</td>\n",
       "      <td>Nov 30, 2021</td>\n",
       "      <td>Come join us for the re-opening of our Dallas ...</td>\n",
       "    </tr>\n",
       "    <tr>\n",
       "      <th>1</th>\n",
       "      <td>Codeup’s Placement Team Continues Setting Records</td>\n",
       "      <td>Nov 19, 2021</td>\n",
       "      <td>Our Placement Team is simply defined as a grou...</td>\n",
       "    </tr>\n",
       "    <tr>\n",
       "      <th>2</th>\n",
       "      <td>IT Certifications 101: Why They Matter, and Wh...</td>\n",
       "      <td>Nov 18, 2021</td>\n",
       "      <td>AWS, Google, Azure, Red Hat, CompTIA…these are...</td>\n",
       "    </tr>\n",
       "    <tr>\n",
       "      <th>3</th>\n",
       "      <td>A rise in cyber attacks means opportunities fo...</td>\n",
       "      <td>Nov 17, 2021</td>\n",
       "      <td>In the last few months, the US has experienced...</td>\n",
       "    </tr>\n",
       "    <tr>\n",
       "      <th>4</th>\n",
       "      <td>Use your GI Bill® benefits to Land a Job in Tech</td>\n",
       "      <td>Nov 4, 2021</td>\n",
       "      <td>As the end of military service gets closer, ma...</td>\n",
       "    </tr>\n",
       "    <tr>\n",
       "      <th>5</th>\n",
       "      <td>Which program is right for me: Cyber Security ...</td>\n",
       "      <td>Oct 28, 2021</td>\n",
       "      <td>What IT Career should I choose?\\nIf you’re thi...</td>\n",
       "    </tr>\n",
       "    <tr>\n",
       "      <th>6</th>\n",
       "      <td>What the Heck is System Engineering?</td>\n",
       "      <td>Oct 21, 2021</td>\n",
       "      <td>Codeup offers a 13-week training program: Syst...</td>\n",
       "    </tr>\n",
       "    <tr>\n",
       "      <th>7</th>\n",
       "      <td>From Speech Pathology to Business Intelligence</td>\n",
       "      <td>Oct 18, 2021</td>\n",
       "      <td>By: Alicia Gonzalez\\nBefore Codeup, I was a ho...</td>\n",
       "    </tr>\n",
       "    <tr>\n",
       "      <th>8</th>\n",
       "      <td>Boris – Behind the Billboards</td>\n",
       "      <td>Oct 3, 2021</td>\n",
       "      <td></td>\n",
       "    </tr>\n",
       "    <tr>\n",
       "      <th>9</th>\n",
       "      <td>Is Codeup the Best Bootcamp in San Antonio…or ...</td>\n",
       "      <td>Sep 16, 2021</td>\n",
       "      <td>Looking for the best data science bootcamp in ...</td>\n",
       "    </tr>\n",
       "    <tr>\n",
       "      <th>10</th>\n",
       "      <td>Codeup Launches First Podcast: Hire Tech</td>\n",
       "      <td>Aug 25, 2021</td>\n",
       "      <td>Any podcast enthusiasts out there? We are plea...</td>\n",
       "    </tr>\n",
       "    <tr>\n",
       "      <th>11</th>\n",
       "      <td>Why Should I Become a System Administrator?</td>\n",
       "      <td>Aug 23, 2021</td>\n",
       "      <td>With so many tech careers in demand, why choos...</td>\n",
       "    </tr>\n",
       "    <tr>\n",
       "      <th>12</th>\n",
       "      <td>Announcing our Candidacy for Accreditation!</td>\n",
       "      <td>Jun 30, 2021</td>\n",
       "      <td>Did you know that even though we’re an indepen...</td>\n",
       "    </tr>\n",
       "    <tr>\n",
       "      <th>13</th>\n",
       "      <td>Codeup Takes Over More of the Historic Vogue B...</td>\n",
       "      <td>Jun 21, 2021</td>\n",
       "      <td>Codeup is moving into another floor of our His...</td>\n",
       "    </tr>\n",
       "    <tr>\n",
       "      <th>14</th>\n",
       "      <td>Inclusion at Codeup During Pride Month (and Al...</td>\n",
       "      <td>Jun 4, 2021</td>\n",
       "      <td>Happy Pride Month! Pride Month is a dedicated ...</td>\n",
       "    </tr>\n",
       "  </tbody>\n",
       "</table>\n",
       "</div>"
      ],
      "text/plain": [
       "                                                title     published  \\\n",
       "0                            Codeup Dallas Open House  Nov 30, 2021   \n",
       "1   Codeup’s Placement Team Continues Setting Records  Nov 19, 2021   \n",
       "2   IT Certifications 101: Why They Matter, and Wh...  Nov 18, 2021   \n",
       "3   A rise in cyber attacks means opportunities fo...  Nov 17, 2021   \n",
       "4    Use your GI Bill® benefits to Land a Job in Tech   Nov 4, 2021   \n",
       "5   Which program is right for me: Cyber Security ...  Oct 28, 2021   \n",
       "6                What the Heck is System Engineering?  Oct 21, 2021   \n",
       "7      From Speech Pathology to Business Intelligence  Oct 18, 2021   \n",
       "8                       Boris – Behind the Billboards   Oct 3, 2021   \n",
       "9   Is Codeup the Best Bootcamp in San Antonio…or ...  Sep 16, 2021   \n",
       "10           Codeup Launches First Podcast: Hire Tech  Aug 25, 2021   \n",
       "11        Why Should I Become a System Administrator?  Aug 23, 2021   \n",
       "12        Announcing our Candidacy for Accreditation!  Jun 30, 2021   \n",
       "13  Codeup Takes Over More of the Historic Vogue B...  Jun 21, 2021   \n",
       "14  Inclusion at Codeup During Pride Month (and Al...   Jun 4, 2021   \n",
       "\n",
       "                                              content  \n",
       "0   Come join us for the re-opening of our Dallas ...  \n",
       "1   Our Placement Team is simply defined as a grou...  \n",
       "2   AWS, Google, Azure, Red Hat, CompTIA…these are...  \n",
       "3   In the last few months, the US has experienced...  \n",
       "4   As the end of military service gets closer, ma...  \n",
       "5   What IT Career should I choose?\\nIf you’re thi...  \n",
       "6   Codeup offers a 13-week training program: Syst...  \n",
       "7   By: Alicia Gonzalez\\nBefore Codeup, I was a ho...  \n",
       "8                                                      \n",
       "9   Looking for the best data science bootcamp in ...  \n",
       "10  Any podcast enthusiasts out there? We are plea...  \n",
       "11  With so many tech careers in demand, why choos...  \n",
       "12  Did you know that even though we’re an indepen...  \n",
       "13  Codeup is moving into another floor of our His...  \n",
       "14  Happy Pride Month! Pride Month is a dedicated ...  "
      ]
     },
     "execution_count": 10,
     "metadata": {},
     "output_type": "execute_result"
    }
   ],
   "source": [
    "get_blog_articles()\n",
    "# get_front_page_links()\n"
   ]
  },
  {
   "cell_type": "code",
   "execution_count": 11,
   "id": "634c5725",
   "metadata": {},
   "outputs": [],
   "source": [
    "# Save the blogs as json:\n",
    "\n",
    "today = strftime('%Y-%m-%d')\n",
    "get_blog_articles().to_json(f'codeup_blog_{today}.json')"
   ]
  },
  {
   "cell_type": "code",
   "execution_count": 12,
   "id": "55843ce5",
   "metadata": {},
   "outputs": [],
   "source": [
    "url = 'https://www.inshorts.com/en/read/business'\n",
    "response = requests.get(url, headers={'user-agent': 'Codeup DS'})\n",
    "soup = BeautifulSoup(response.text)"
   ]
  },
  {
   "cell_type": "code",
   "execution_count": 13,
   "id": "fd014f1e",
   "metadata": {},
   "outputs": [
    {
     "data": {
      "text/plain": [
       "25"
      ]
     },
     "execution_count": 13,
     "metadata": {},
     "output_type": "execute_result"
    }
   ],
   "source": [
    "# identify class to select all the news cards\n",
    "cards = soup.select('.news-card')\n",
    "len(cards)"
   ]
  },
  {
   "cell_type": "code",
   "execution_count": 14,
   "id": "c25426e2",
   "metadata": {},
   "outputs": [],
   "source": [
    "card = cards[0]\n",
    "# card"
   ]
  },
  {
   "cell_type": "code",
   "execution_count": 15,
   "id": "ecb58f77",
   "metadata": {},
   "outputs": [
    {
     "data": {
      "text/plain": [
       "'RBI cancels licence of Maha-based Independence Co-operative Bank'"
      ]
     },
     "execution_count": 15,
     "metadata": {},
     "output_type": "execute_result"
    }
   ],
   "source": [
    "# headline\n",
    "headline = card.find('span', itemprop = 'headline').text\n",
    "headline"
   ]
  },
  {
   "cell_type": "code",
   "execution_count": 16,
   "id": "7f80a063",
   "metadata": {},
   "outputs": [
    {
     "data": {
      "text/plain": [
       "'Shalini Ojha'"
      ]
     },
     "execution_count": 16,
     "metadata": {},
     "output_type": "execute_result"
    }
   ],
   "source": [
    "# author\n",
    "card.find('span', class_ = 'author').text"
   ]
  },
  {
   "cell_type": "code",
   "execution_count": 17,
   "id": "cdb7df70",
   "metadata": {},
   "outputs": [
    {
     "data": {
      "text/plain": [
       "\"RBI has cancelled licence of Maharashtra-based Independence Co-operative Bank, citing inadequate capital. It will cease to carry on banking operations from the close of business on February 3. In the present situation, the bank won't be able to pay its depositors in full, RBI said. It added that the bank didn't comply with multiple sections of Banking Regulation Act, 1949. \""
      ]
     },
     "execution_count": 17,
     "metadata": {},
     "output_type": "execute_result"
    }
   ],
   "source": [
    "# content\n",
    "card.find('div', itemprop = 'articleBody').text"
   ]
  },
  {
   "cell_type": "code",
   "execution_count": 18,
   "id": "8e6bb375",
   "metadata": {},
   "outputs": [
    {
     "data": {
      "text/plain": [
       "'03 Feb 2022,Thursday'"
      ]
     },
     "execution_count": 18,
     "metadata": {},
     "output_type": "execute_result"
    }
   ],
   "source": [
    "#date\n",
    "card.find('span', clas ='date').text"
   ]
  },
  {
   "cell_type": "code",
   "execution_count": 19,
   "id": "625b9c21",
   "metadata": {},
   "outputs": [],
   "source": [
    "def parse_news_card(card):\n",
    "    'Given a news card object, returns a dictionary of the relevant information.'\n",
    "    card_title = card.select_one('.news-card-title')\n",
    "    output = {}\n",
    "    output['title'] = card.find('span', itemprop = 'headline').text\n",
    "    output['author'] = card.find('span', class_ = 'author').text\n",
    "    output['content'] = card.find('div', itemprop = 'articleBody').text\n",
    "    output['date'] = card.find('span', clas ='date').text\n",
    "    return output\n",
    "\n",
    "\n",
    "def parse_inshorts_page(url):\n",
    "    '''Given a url, returns a dataframe where each row is a news article from the url.\n",
    "    Infers the category from the last section of the url.'''\n",
    "    category = url.split('/')[-1]\n",
    "    response = requests.get(url, headers={'user-agent': 'Codeup DS'})\n",
    "    soup = BeautifulSoup(response.text)\n",
    "    cards = soup.select('.news-card')\n",
    "    df = pd.DataFrame([parse_news_card(card) for card in cards])\n",
    "    df['category'] = category\n",
    "    return df\n",
    "\n",
    "def get_inshorts_articles():\n",
    "    '''\n",
    "    Returns a dataframe of news articles from the business, sports, technology, and entertainment sections of\n",
    "    inshorts.\n",
    "    '''\n",
    "    url = 'https://inshorts.com/en/read/'\n",
    "    categories = ['business', 'sports', 'technology', 'entertainment']\n",
    "    df = pd.DataFrame()\n",
    "    for cat in categories:\n",
    "        df = pd.concat([df, pd.DataFrame(parse_inshorts_page(url + cat))])\n",
    "    df = df.reset_index(drop=True)\n",
    "    return df"
   ]
  },
  {
   "cell_type": "code",
   "execution_count": 20,
   "id": "625da493",
   "metadata": {},
   "outputs": [
    {
     "data": {
      "text/html": [
       "<div>\n",
       "<style scoped>\n",
       "    .dataframe tbody tr th:only-of-type {\n",
       "        vertical-align: middle;\n",
       "    }\n",
       "\n",
       "    .dataframe tbody tr th {\n",
       "        vertical-align: top;\n",
       "    }\n",
       "\n",
       "    .dataframe thead th {\n",
       "        text-align: right;\n",
       "    }\n",
       "</style>\n",
       "<table border=\"1\" class=\"dataframe\">\n",
       "  <thead>\n",
       "    <tr style=\"text-align: right;\">\n",
       "      <th></th>\n",
       "      <th>title</th>\n",
       "      <th>author</th>\n",
       "      <th>content</th>\n",
       "      <th>date</th>\n",
       "      <th>category</th>\n",
       "    </tr>\n",
       "  </thead>\n",
       "  <tbody>\n",
       "    <tr>\n",
       "      <th>0</th>\n",
       "      <td>RBI cancels licence of Maha-based Independence...</td>\n",
       "      <td>Shalini Ojha</td>\n",
       "      <td>RBI has cancelled licence of Maharashtra-based...</td>\n",
       "      <td>03 Feb 2022,Thursday</td>\n",
       "      <td>business</td>\n",
       "    </tr>\n",
       "    <tr>\n",
       "      <th>1</th>\n",
       "      <td>Boost to EVs a big step: Windmill Capital</td>\n",
       "      <td>Roshan Gupta</td>\n",
       "      <td>Increased use of EVs in public transport, spec...</td>\n",
       "      <td>03 Feb 2022,Thursday</td>\n",
       "      <td>business</td>\n",
       "    </tr>\n",
       "    <tr>\n",
       "      <th>2</th>\n",
       "      <td>Facebook parent Meta's $230-billion wipeout bi...</td>\n",
       "      <td>Pragya Swastik</td>\n",
       "      <td>Facebook's parent Meta's shares plunged 27% an...</td>\n",
       "      <td>03 Feb 2022,Thursday</td>\n",
       "      <td>business</td>\n",
       "    </tr>\n",
       "    <tr>\n",
       "      <th>3</th>\n",
       "      <td>Mark Zuckerberg loses $31 bn in one of the big...</td>\n",
       "      <td>Pragya Swastik</td>\n",
       "      <td>Meta CEO Mark Zuckerberg's wealth dropped by $...</td>\n",
       "      <td>03 Feb 2022,Thursday</td>\n",
       "      <td>business</td>\n",
       "    </tr>\n",
       "    <tr>\n",
       "      <th>4</th>\n",
       "      <td>Tesla co-worker used N-word, threw a hot tool ...</td>\n",
       "      <td>Kiran Khatri</td>\n",
       "      <td>A former Tesla worker has filed a lawsuit agai...</td>\n",
       "      <td>03 Feb 2022,Thursday</td>\n",
       "      <td>business</td>\n",
       "    </tr>\n",
       "    <tr>\n",
       "      <th>...</th>\n",
       "      <td>...</td>\n",
       "      <td>...</td>\n",
       "      <td>...</td>\n",
       "      <td>...</td>\n",
       "      <td>...</td>\n",
       "    </tr>\n",
       "    <tr>\n",
       "      <th>95</th>\n",
       "      <td>I don't work thinking I'm so many films old: D...</td>\n",
       "      <td>Kriti Kambiri</td>\n",
       "      <td>Actress Deepika Padukone, who made her Bollywo...</td>\n",
       "      <td>03 Feb 2022,Thursday</td>\n",
       "      <td>entertainment</td>\n",
       "    </tr>\n",
       "    <tr>\n",
       "      <th>96</th>\n",
       "      <td>Court directs Honey Singh to give voice sample...</td>\n",
       "      <td>Kriti Kambiri</td>\n",
       "      <td>Rapper Yo Yo Honey Singh has been directed by ...</td>\n",
       "      <td>03 Feb 2022,Thursday</td>\n",
       "      <td>entertainment</td>\n",
       "    </tr>\n",
       "    <tr>\n",
       "      <th>97</th>\n",
       "      <td>Not my style: Deepika on being asked if she ga...</td>\n",
       "      <td>Mahima Kharbanda</td>\n",
       "      <td>When asked if she had given any special dating...</td>\n",
       "      <td>03 Feb 2022,Thursday</td>\n",
       "      <td>entertainment</td>\n",
       "    </tr>\n",
       "    <tr>\n",
       "      <th>98</th>\n",
       "      <td>Farhan, Shibani to host their wedding party at...</td>\n",
       "      <td>Mahima Kharbanda</td>\n",
       "      <td>Actor Farhan Akhtar and Shibani Dandekar will ...</td>\n",
       "      <td>03 Feb 2022,Thursday</td>\n",
       "      <td>entertainment</td>\n",
       "    </tr>\n",
       "    <tr>\n",
       "      <th>99</th>\n",
       "      <td>Convinced people in bus I was IPS; they got me...</td>\n",
       "      <td>Ria Kapoor</td>\n",
       "      <td>Actress Gul Panag said she once convinced bus ...</td>\n",
       "      <td>03 Feb 2022,Thursday</td>\n",
       "      <td>entertainment</td>\n",
       "    </tr>\n",
       "  </tbody>\n",
       "</table>\n",
       "<p>100 rows × 5 columns</p>\n",
       "</div>"
      ],
      "text/plain": [
       "                                                title            author  \\\n",
       "0   RBI cancels licence of Maha-based Independence...      Shalini Ojha   \n",
       "1           Boost to EVs a big step: Windmill Capital      Roshan Gupta   \n",
       "2   Facebook parent Meta's $230-billion wipeout bi...    Pragya Swastik   \n",
       "3   Mark Zuckerberg loses $31 bn in one of the big...    Pragya Swastik   \n",
       "4   Tesla co-worker used N-word, threw a hot tool ...      Kiran Khatri   \n",
       "..                                                ...               ...   \n",
       "95  I don't work thinking I'm so many films old: D...     Kriti Kambiri   \n",
       "96  Court directs Honey Singh to give voice sample...     Kriti Kambiri   \n",
       "97  Not my style: Deepika on being asked if she ga...  Mahima Kharbanda   \n",
       "98  Farhan, Shibani to host their wedding party at...  Mahima Kharbanda   \n",
       "99  Convinced people in bus I was IPS; they got me...        Ria Kapoor   \n",
       "\n",
       "                                              content                  date  \\\n",
       "0   RBI has cancelled licence of Maharashtra-based...  03 Feb 2022,Thursday   \n",
       "1   Increased use of EVs in public transport, spec...  03 Feb 2022,Thursday   \n",
       "2   Facebook's parent Meta's shares plunged 27% an...  03 Feb 2022,Thursday   \n",
       "3   Meta CEO Mark Zuckerberg's wealth dropped by $...  03 Feb 2022,Thursday   \n",
       "4   A former Tesla worker has filed a lawsuit agai...  03 Feb 2022,Thursday   \n",
       "..                                                ...                   ...   \n",
       "95  Actress Deepika Padukone, who made her Bollywo...  03 Feb 2022,Thursday   \n",
       "96  Rapper Yo Yo Honey Singh has been directed by ...  03 Feb 2022,Thursday   \n",
       "97  When asked if she had given any special dating...  03 Feb 2022,Thursday   \n",
       "98  Actor Farhan Akhtar and Shibani Dandekar will ...  03 Feb 2022,Thursday   \n",
       "99  Actress Gul Panag said she once convinced bus ...  03 Feb 2022,Thursday   \n",
       "\n",
       "         category  \n",
       "0        business  \n",
       "1        business  \n",
       "2        business  \n",
       "3        business  \n",
       "4        business  \n",
       "..            ...  \n",
       "95  entertainment  \n",
       "96  entertainment  \n",
       "97  entertainment  \n",
       "98  entertainment  \n",
       "99  entertainment  \n",
       "\n",
       "[100 rows x 5 columns]"
      ]
     },
     "execution_count": 20,
     "metadata": {},
     "output_type": "execute_result"
    }
   ],
   "source": [
    "get_inshorts_articles()"
   ]
  },
  {
   "cell_type": "code",
   "execution_count": 21,
   "id": "cd87f9e5",
   "metadata": {},
   "outputs": [],
   "source": [
    "# save the dataframe as json:\n",
    "\n",
    "today = strftime('%Y-%m-%d')\n",
    "get_inshorts_articles().to_json(f'inshorts-{today}.json')"
   ]
  },
  {
   "cell_type": "code",
   "execution_count": null,
   "id": "d08d1b8f",
   "metadata": {},
   "outputs": [],
   "source": []
  }
 ],
 "metadata": {
  "kernelspec": {
   "display_name": "Python 3 (ipykernel)",
   "language": "python",
   "name": "python3"
  },
  "language_info": {
   "codemirror_mode": {
    "name": "ipython",
    "version": 3
   },
   "file_extension": ".py",
   "mimetype": "text/x-python",
   "name": "python",
   "nbconvert_exporter": "python",
   "pygments_lexer": "ipython3",
   "version": "3.9.7"
  }
 },
 "nbformat": 4,
 "nbformat_minor": 5
}
