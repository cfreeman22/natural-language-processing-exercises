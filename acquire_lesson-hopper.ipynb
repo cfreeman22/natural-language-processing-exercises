{
 "cells": [
  {
   "cell_type": "markdown",
   "metadata": {},
   "source": [
    "# Data Acquisition with Web Scraping"
   ]
  },
  {
   "cell_type": "code",
   "execution_count": 1,
   "metadata": {},
   "outputs": [],
   "source": [
    "import requests\n",
    "from bs4 import BeautifulSoup\n",
    "import pandas as pd"
   ]
  },
  {
   "cell_type": "markdown",
   "metadata": {},
   "source": [
    "`$ pip install beautifulsoup4`"
   ]
  },
  {
   "cell_type": "markdown",
   "metadata": {},
   "source": [
    "## Soup Methods\n",
    "\n",
    "- `soup.select('.class')`: to get all the elements with class `class`\n",
    "- `soup.select_one('.class')`: to get the first element with class `class`\n",
    "- `soup.h2`: to get the first `h2` element\n",
    "- `soup.find_all('h2')`: to get all the elements with tag name of `h2`\n",
    "- `soup('h2')` : same as `find_all` method above\n",
    "- `soup.find('h2')`: finds the first matching element"
   ]
  },
  {
   "cell_type": "markdown",
   "metadata": {},
   "source": [
    "First make the request. The response is a bunch of html."
   ]
  },
  {
   "cell_type": "code",
   "execution_count": 2,
   "metadata": {},
   "outputs": [
    {
     "data": {
      "text/plain": [
       "'<!DOCTYPE html>\\n<html lang=\"en\">\\n<head>\\n    <meta charset=\"UTF-8\">\\n    <meta http-equiv=\"X-UA-Compatible\" content=\"IE=edge\">\\n    <meta name=\"viewport\" content=\"width=device-width, initial-scale=1.0\">\\n    <title>News Example Page</title>\\n    <link href=\"https://unpkg.com/tailwindcss@^2/dist/tailwind.min.css\" rel=\"stylesheet\" />\\n    <link rel=\"stylesheet\" href=\"https://cdn.jsdelivr.net/npm/bootstrap-icons@1.4.1/font/bootstrap-icons.css\" />\\n</head>\\n<body class=\"mx-auto max-w-screen-lg pb-32\">\\n    \\n<h1 class=\"my-5 text-4xl text-center\">News!</h1>\\n<div class=\"my-5 text-red-800 px-5 py-3 bg-red-100 font-bold\">\\n    <p>\\n        <i class=\"bi bi-exclamation-circle text-xl\"></i>\\n        All data on this page is strictly for demonstration purposes and fake.\\n    </p>\\n</div>\\n<div class=\"grid gap-y-12\">\\n    \\n    <div class=\"grid grid-cols-4 gap-x-4 border rounded pr-3 bg-green-50 hover:shadow-lg transition duration-500\">\\n        <img src=\"/static/placeholder.png\" />\\n        <div class=\"col-span-3 space-y-3 py-3\">\\n            <h2 class=\"text-2xl text-green-900\">cost leader add</h2>\\n            <div class=\"grid grid-cols-2 italic\">\\n                <p> 1985-12-14 </p>\\n                <p class=\"text-right\">By Amanda Cantrell </p>\\n            </div>\\n            <p>Nothing surface successful small. Decide range analysis think adult late.\\nManage close region often happen. Choose leader capital if time member girl.</p>\\n        </div>\\n    </div>\\n    \\n    <div class=\"grid grid-cols-4 gap-x-4 border rounded pr-3 bg-green-50 hover:shadow-lg transition duration-500\">\\n        <img src=\"/static/placeholder.png\" />\\n        <div class=\"col-span-3 space-y-3 py-3\">\\n            <h2 class=\"text-2xl text-green-900\">rock certain owner</h2>\\n            <div class=\"grid grid-cols-2 italic\">\\n                <p> 1985-08-04 </p>\\n                <p class=\"text-right\">By Angela Williams </p>\\n            </div>\\n            <p>Process put Democrat full. It nor age others than subject. Each place chance newspaper. Debate for leader now image possible.\\nNever fact rich house military easy research lawyer. Catch box baby window see report opportunity. About full go fact herself service.</p>\\n        </div>\\n    </div>\\n    \\n    <div class=\"grid grid-cols-4 gap-x-4 border rounded pr-3 bg-green-50 hover:shadow-lg transition duration-500\">\\n        <img src=\"/static/placeholder.png\" />\\n        <div class=\"col-span-3 space-y-3 py-3\">\\n            <h2 class=\"text-2xl text-green-900\">cover remember TV</h2>\\n            <div class=\"grid grid-cols-2 italic\">\\n                <p> 1994-06-05 </p>\\n                <p class=\"text-right\">By Mary White </p>\\n            </div>\\n            <p>Memory place collection dream. Act seem cup light only.\\nAgreement note able billion fish. Amount source for itself none read know simple. A particular building any hair.</p>\\n        </div>\\n    </div>\\n    \\n    <div class=\"grid grid-cols-4 gap-x-4 border rounded pr-3 bg-green-50 hover:shadow-lg transition duration-500\">\\n        <img src=\"/static/placeholder.png\" />\\n        <div class=\"col-span-3 space-y-3 py-3\">\\n            <h2 class=\"text-2xl text-green-900\">be institution similar</h2>\\n            <div class=\"grid grid-cols-2 italic\">\\n                <p> 1986-04-15 </p>\\n                <p class=\"text-right\">By Aaron Anderson </p>\\n            </div>\\n            <p>Air per writer science reason goal few. Especially policy part another charge item somebody per. Page bar sing audience charge successful why.\\nPart adult receive. Example beat throw sport. Entire free store adult movie.</p>\\n        </div>\\n    </div>\\n    \\n    <div class=\"grid grid-cols-4 gap-x-4 border rounded pr-3 bg-green-50 hover:shadow-lg transition duration-500\">\\n        <img src=\"/static/placeholder.png\" />\\n        <div class=\"col-span-3 space-y-3 py-3\">\\n            <h2 class=\"text-2xl text-green-900\">likely positive language</h2>\\n            <div class=\"grid grid-cols-2 italic\">\\n                <p> 1982-10-31 </p>\\n                <p class=\"text-right\">By James Higgins </p>\\n            </div>\\n            <p>Right perhaps information system boy either. System notice probably try. Certainly yourself laugh character.\\nHard garden mean administration. Hospital student relate lot past place. Simple become development plan or drive discover while.</p>\\n        </div>\\n    </div>\\n    \\n    <div class=\"grid grid-cols-4 gap-x-4 border rounded pr-3 bg-green-50 hover:shadow-lg transition duration-500\">\\n        <img src=\"/static/placeholder.png\" />\\n        <div class=\"col-span-3 space-y-3 py-3\">\\n            <h2 class=\"text-2xl text-green-900\">skin consider meeting</h2>\\n            <div class=\"grid grid-cols-2 italic\">\\n                <p> 1979-07-25 </p>\\n                <p class=\"text-right\">By Willie Wong </p>\\n            </div>\\n            <p>Behind stock win low eye. Table fear opportunity mind really. Wide risk against accept.\\nAlready short car maybe want force. Offer both first get. Home news head off.</p>\\n        </div>\\n    </div>\\n    \\n    <div class=\"grid grid-cols-4 gap-x-4 border rounded pr-3 bg-green-50 hover:shadow-lg transition duration-500\">\\n        <img src=\"/static/placeholder.png\" />\\n        <div class=\"col-span-3 space-y-3 py-3\">\\n            <h2 class=\"text-2xl text-green-900\">reveal wide conference</h2>\\n            <div class=\"grid grid-cols-2 italic\">\\n                <p> 2020-04-02 </p>\\n                <p class=\"text-right\">By Anna Jenkins </p>\\n            </div>\\n            <p>Oil determine surface walk realize billion bar. Also begin card sit again somebody shake wait.\\nResponse include per possible son interview. Majority with leg this stand information. Support certain look save pick treat sell.</p>\\n        </div>\\n    </div>\\n    \\n    <div class=\"grid grid-cols-4 gap-x-4 border rounded pr-3 bg-green-50 hover:shadow-lg transition duration-500\">\\n        <img src=\"/static/placeholder.png\" />\\n        <div class=\"col-span-3 space-y-3 py-3\">\\n            <h2 class=\"text-2xl text-green-900\">almost million foot</h2>\\n            <div class=\"grid grid-cols-2 italic\">\\n                <p> 1970-01-05 </p>\\n                <p class=\"text-right\">By Kyle Garza Jr. </p>\\n            </div>\\n            <p>Manager ahead political woman policy. Plant major follow join citizen maybe provide.\\nTreat pretty section. Team run miss listen production decade bill. Simple staff woman can.</p>\\n        </div>\\n    </div>\\n    \\n    <div class=\"grid grid-cols-4 gap-x-4 border rounded pr-3 bg-green-50 hover:shadow-lg transition duration-500\">\\n        <img src=\"/static/placeholder.png\" />\\n        <div class=\"col-span-3 space-y-3 py-3\">\\n            <h2 class=\"text-2xl text-green-900\">seat finally exist</h2>\\n            <div class=\"grid grid-cols-2 italic\">\\n                <p> 1993-08-20 </p>\\n                <p class=\"text-right\">By Cory Hayden </p>\\n            </div>\\n            <p>Reason early put agree memory stage. Loss thousand fast wonder successful impact why. Him weight happen resource factor certain candidate.\\nSuggest give pressure daughter type. Property become material why kid area parent bad. Position goal customer else exactly. Parent time election rock call east boy.</p>\\n        </div>\\n    </div>\\n    \\n    <div class=\"grid grid-cols-4 gap-x-4 border rounded pr-3 bg-green-50 hover:shadow-lg transition duration-500\">\\n        <img src=\"/static/placeholder.png\" />\\n        <div class=\"col-span-3 space-y-3 py-3\">\\n            <h2 class=\"text-2xl text-green-900\">like college forget</h2>\\n            <div class=\"grid grid-cols-2 italic\">\\n                <p> 1992-09-16 </p>\\n                <p class=\"text-right\">By Kristin Tucker </p>\\n            </div>\\n            <p>Five environmental allow. However bring magazine happy argue. Religious particularly sit maintain little. Live trouble cost consider example certainly.\\nLay thought special soon interesting your. Clear tend value service from.</p>\\n        </div>\\n    </div>\\n    \\n    <div class=\"grid grid-cols-4 gap-x-4 border rounded pr-3 bg-green-50 hover:shadow-lg transition duration-500\">\\n        <img src=\"/static/placeholder.png\" />\\n        <div class=\"col-span-3 space-y-3 py-3\">\\n            <h2 class=\"text-2xl text-green-900\">lawyer figure final</h2>\\n            <div class=\"grid grid-cols-2 italic\">\\n                <p> 2019-10-07 </p>\\n                <p class=\"text-right\">By Jacqueline Davis </p>\\n            </div>\\n            <p>Plan main loss reach ten wall of. Front possible lay card performance room time half. Price write such choice control direction.\\nToo fire increase while. Physical certain generation affect property decide.</p>\\n        </div>\\n    </div>\\n    \\n    <div class=\"grid grid-cols-4 gap-x-4 border rounded pr-3 bg-green-50 hover:shadow-lg transition duration-500\">\\n        <img src=\"/static/placeholder.png\" />\\n        <div class=\"col-span-3 space-y-3 py-3\">\\n            <h2 class=\"text-2xl text-green-900\">accept thought more</h2>\\n            <div class=\"grid grid-cols-2 italic\">\\n                <p> 1979-04-21 </p>\\n                <p class=\"text-right\">By Matthew Miranda </p>\\n            </div>\\n            <p>Customer deal floor. Catch hit plant relationship away.\\nBill sure space pull technology. Entire front country worker fill.</p>\\n        </div>\\n    </div>\\n    \\n</div>\\n\\n</body>\\n</html>'"
      ]
     },
     "execution_count": 2,
     "metadata": {},
     "output_type": "execute_result"
    }
   ],
   "source": [
    "response = requests.get('https://web-scraping-demo.zgulde.net/news')\n",
    "html = response.text\n",
    "html"
   ]
  },
  {
   "cell_type": "markdown",
   "metadata": {},
   "source": [
    "We can make more sense of that html with the beautiful soup library."
   ]
  },
  {
   "cell_type": "code",
   "execution_count": 3,
   "metadata": {},
   "outputs": [
    {
     "name": "stdout",
     "output_type": "stream",
     "text": [
      "<!DOCTYPE html>\n",
      "<html lang=\"en\">\n",
      " <head>\n",
      "  <meta charset=\"utf-8\"/>\n",
      "  <meta content=\"IE=edge\" http-equiv=\"X-UA-Compatible\"/>\n",
      "  <meta content=\"width=device-width, initial-scale=1.0\" name=\"viewport\"/>\n",
      "  <title>\n",
      "   News Example Page\n",
      "  </title>\n",
      "  <link href=\"https://unpkg.com/tailwindcss@^2/dist/tailwind.min.css\" rel=\"stylesheet\"/>\n",
      "  <link href=\"https://cdn.jsdelivr.net/npm/bootstrap-icons@1.4.1/font/bootstrap-icons.css\" rel=\"stylesheet\"/>\n",
      " </head>\n",
      " <body class=\"mx-auto max-w-screen-lg pb-32\">\n",
      "  <h1 class=\"my-5 text-4xl text-center\">\n",
      "   News!\n",
      "  </h1>\n",
      "  <div class=\"my-5 text-red-800 px-5 py-3 bg-red-100 font-bold\">\n",
      "   <p>\n",
      "    <i class=\"bi bi-exclamation-circle text-xl\">\n",
      "    </i>\n",
      "    All data on this page is strictly for demonstration purposes and fake.\n",
      "   </p>\n",
      "  </div>\n",
      "  <div class=\"grid gap-y-12\">\n",
      "   <div class=\"grid grid-cols-4 gap-x-4 border rounded pr-3 bg-green-50 hover:shadow-lg transition duration-500\">\n",
      "    <img src=\"/static/placeholder.png\"/>\n",
      "    <div class=\"col-span-3 space-y-3 py-3\">\n",
      "     <h2 class=\"text-2xl text-green-900\">\n",
      "      cost leader add\n",
      "     </h2>\n",
      "     <div class=\"grid grid-cols-2 italic\">\n",
      "      <p>\n",
      "       1985-12-14\n",
      "      </p>\n",
      "      <p class=\"text-right\">\n",
      "       By Amanda Cantrell\n",
      "      </p>\n",
      "     </div>\n",
      "     <p>\n",
      "      Nothing surface successful small. Decide range analysis think adult late.\n",
      "Manage close region often happen. Choose leader capital if time member girl.\n",
      "     </p>\n",
      "    </div>\n",
      "   </div>\n",
      "   <div class=\"grid grid-cols-4 gap-x-4 border rounded pr-3 bg-green-50 hover:shadow-lg transition duration-500\">\n",
      "    <img src=\"/static/placeholder.png\"/>\n",
      "    <div class=\"col-span-3 space-y-3 py-3\">\n",
      "     <h2 class=\"text-2xl text-green-900\">\n",
      "      rock certain owner\n",
      "     </h2>\n",
      "     <div class=\"grid grid-cols-2 italic\">\n",
      "      <p>\n",
      "       1985-08-04\n",
      "      </p>\n",
      "      <p class=\"text-right\">\n",
      "       By Angela Williams\n",
      "      </p>\n",
      "     </div>\n",
      "     <p>\n",
      "      Process put Democrat full. It nor age others than subject. Each place chance newspaper. Debate for leader now image possible.\n",
      "Never fact rich house military easy research lawyer. Catch box baby window see report opportunity. About full go fact herself service.\n",
      "     </p>\n",
      "    </div>\n",
      "   </div>\n",
      "   <div class=\"grid grid-cols-4 gap-x-4 border rounded pr-3 bg-green-50 hover:shadow-lg transition duration-500\">\n",
      "    <img src=\"/static/placeholder.png\"/>\n",
      "    <div class=\"col-span-3 space-y-3 py-3\">\n",
      "     <h2 class=\"text-2xl text-green-900\">\n",
      "      cover remember TV\n",
      "     </h2>\n",
      "     <div class=\"grid grid-cols-2 italic\">\n",
      "      <p>\n",
      "       1994-06-05\n",
      "      </p>\n",
      "      <p class=\"text-right\">\n",
      "       By Mary White\n",
      "      </p>\n",
      "     </div>\n",
      "     <p>\n",
      "      Memory place collection dream. Act seem cup light only.\n",
      "Agreement note able billion fish. Amount source for itself none read know simple. A particular building any hair.\n",
      "     </p>\n",
      "    </div>\n",
      "   </div>\n",
      "   <div class=\"grid grid-cols-4 gap-x-4 border rounded pr-3 bg-green-50 hover:shadow-lg transition duration-500\">\n",
      "    <img src=\"/static/placeholder.png\"/>\n",
      "    <div class=\"col-span-3 space-y-3 py-3\">\n",
      "     <h2 class=\"text-2xl text-green-900\">\n",
      "      be institution similar\n",
      "     </h2>\n",
      "     <div class=\"grid grid-cols-2 italic\">\n",
      "      <p>\n",
      "       1986-04-15\n",
      "      </p>\n",
      "      <p class=\"text-right\">\n",
      "       By Aaron Anderson\n",
      "      </p>\n",
      "     </div>\n",
      "     <p>\n",
      "      Air per writer science reason goal few. Especially policy part another charge item somebody per. Page bar sing audience charge successful why.\n",
      "Part adult receive. Example beat throw sport. Entire free store adult movie.\n",
      "     </p>\n",
      "    </div>\n",
      "   </div>\n",
      "   <div class=\"grid grid-cols-4 gap-x-4 border rounded pr-3 bg-green-50 hover:shadow-lg transition duration-500\">\n",
      "    <img src=\"/static/placeholder.png\"/>\n",
      "    <div class=\"col-span-3 space-y-3 py-3\">\n",
      "     <h2 class=\"text-2xl text-green-900\">\n",
      "      likely positive language\n",
      "     </h2>\n",
      "     <div class=\"grid grid-cols-2 italic\">\n",
      "      <p>\n",
      "       1982-10-31\n",
      "      </p>\n",
      "      <p class=\"text-right\">\n",
      "       By James Higgins\n",
      "      </p>\n",
      "     </div>\n",
      "     <p>\n",
      "      Right perhaps information system boy either. System notice probably try. Certainly yourself laugh character.\n",
      "Hard garden mean administration. Hospital student relate lot past place. Simple become development plan or drive discover while.\n",
      "     </p>\n",
      "    </div>\n",
      "   </div>\n",
      "   <div class=\"grid grid-cols-4 gap-x-4 border rounded pr-3 bg-green-50 hover:shadow-lg transition duration-500\">\n",
      "    <img src=\"/static/placeholder.png\"/>\n",
      "    <div class=\"col-span-3 space-y-3 py-3\">\n",
      "     <h2 class=\"text-2xl text-green-900\">\n",
      "      skin consider meeting\n",
      "     </h2>\n",
      "     <div class=\"grid grid-cols-2 italic\">\n",
      "      <p>\n",
      "       1979-07-25\n",
      "      </p>\n",
      "      <p class=\"text-right\">\n",
      "       By Willie Wong\n",
      "      </p>\n",
      "     </div>\n",
      "     <p>\n",
      "      Behind stock win low eye. Table fear opportunity mind really. Wide risk against accept.\n",
      "Already short car maybe want force. Offer both first get. Home news head off.\n",
      "     </p>\n",
      "    </div>\n",
      "   </div>\n",
      "   <div class=\"grid grid-cols-4 gap-x-4 border rounded pr-3 bg-green-50 hover:shadow-lg transition duration-500\">\n",
      "    <img src=\"/static/placeholder.png\"/>\n",
      "    <div class=\"col-span-3 space-y-3 py-3\">\n",
      "     <h2 class=\"text-2xl text-green-900\">\n",
      "      reveal wide conference\n",
      "     </h2>\n",
      "     <div class=\"grid grid-cols-2 italic\">\n",
      "      <p>\n",
      "       2020-04-02\n",
      "      </p>\n",
      "      <p class=\"text-right\">\n",
      "       By Anna Jenkins\n",
      "      </p>\n",
      "     </div>\n",
      "     <p>\n",
      "      Oil determine surface walk realize billion bar. Also begin card sit again somebody shake wait.\n",
      "Response include per possible son interview. Majority with leg this stand information. Support certain look save pick treat sell.\n",
      "     </p>\n",
      "    </div>\n",
      "   </div>\n",
      "   <div class=\"grid grid-cols-4 gap-x-4 border rounded pr-3 bg-green-50 hover:shadow-lg transition duration-500\">\n",
      "    <img src=\"/static/placeholder.png\"/>\n",
      "    <div class=\"col-span-3 space-y-3 py-3\">\n",
      "     <h2 class=\"text-2xl text-green-900\">\n",
      "      almost million foot\n",
      "     </h2>\n",
      "     <div class=\"grid grid-cols-2 italic\">\n",
      "      <p>\n",
      "       1970-01-05\n",
      "      </p>\n",
      "      <p class=\"text-right\">\n",
      "       By Kyle Garza Jr.\n",
      "      </p>\n",
      "     </div>\n",
      "     <p>\n",
      "      Manager ahead political woman policy. Plant major follow join citizen maybe provide.\n",
      "Treat pretty section. Team run miss listen production decade bill. Simple staff woman can.\n",
      "     </p>\n",
      "    </div>\n",
      "   </div>\n",
      "   <div class=\"grid grid-cols-4 gap-x-4 border rounded pr-3 bg-green-50 hover:shadow-lg transition duration-500\">\n",
      "    <img src=\"/static/placeholder.png\"/>\n",
      "    <div class=\"col-span-3 space-y-3 py-3\">\n",
      "     <h2 class=\"text-2xl text-green-900\">\n",
      "      seat finally exist\n",
      "     </h2>\n",
      "     <div class=\"grid grid-cols-2 italic\">\n",
      "      <p>\n",
      "       1993-08-20\n",
      "      </p>\n",
      "      <p class=\"text-right\">\n",
      "       By Cory Hayden\n",
      "      </p>\n",
      "     </div>\n",
      "     <p>\n",
      "      Reason early put agree memory stage. Loss thousand fast wonder successful impact why. Him weight happen resource factor certain candidate.\n",
      "Suggest give pressure daughter type. Property become material why kid area parent bad. Position goal customer else exactly. Parent time election rock call east boy.\n",
      "     </p>\n",
      "    </div>\n",
      "   </div>\n",
      "   <div class=\"grid grid-cols-4 gap-x-4 border rounded pr-3 bg-green-50 hover:shadow-lg transition duration-500\">\n",
      "    <img src=\"/static/placeholder.png\"/>\n",
      "    <div class=\"col-span-3 space-y-3 py-3\">\n",
      "     <h2 class=\"text-2xl text-green-900\">\n",
      "      like college forget\n",
      "     </h2>\n",
      "     <div class=\"grid grid-cols-2 italic\">\n",
      "      <p>\n",
      "       1992-09-16\n",
      "      </p>\n",
      "      <p class=\"text-right\">\n",
      "       By Kristin Tucker\n",
      "      </p>\n",
      "     </div>\n",
      "     <p>\n",
      "      Five environmental allow. However bring magazine happy argue. Religious particularly sit maintain little. Live trouble cost consider example certainly.\n",
      "Lay thought special soon interesting your. Clear tend value service from.\n",
      "     </p>\n",
      "    </div>\n",
      "   </div>\n",
      "   <div class=\"grid grid-cols-4 gap-x-4 border rounded pr-3 bg-green-50 hover:shadow-lg transition duration-500\">\n",
      "    <img src=\"/static/placeholder.png\"/>\n",
      "    <div class=\"col-span-3 space-y-3 py-3\">\n",
      "     <h2 class=\"text-2xl text-green-900\">\n",
      "      lawyer figure final\n",
      "     </h2>\n",
      "     <div class=\"grid grid-cols-2 italic\">\n",
      "      <p>\n",
      "       2019-10-07\n",
      "      </p>\n",
      "      <p class=\"text-right\">\n",
      "       By Jacqueline Davis\n",
      "      </p>\n",
      "     </div>\n",
      "     <p>\n",
      "      Plan main loss reach ten wall of. Front possible lay card performance room time half. Price write such choice control direction.\n",
      "Too fire increase while. Physical certain generation affect property decide.\n",
      "     </p>\n",
      "    </div>\n",
      "   </div>\n",
      "   <div class=\"grid grid-cols-4 gap-x-4 border rounded pr-3 bg-green-50 hover:shadow-lg transition duration-500\">\n",
      "    <img src=\"/static/placeholder.png\"/>\n",
      "    <div class=\"col-span-3 space-y-3 py-3\">\n",
      "     <h2 class=\"text-2xl text-green-900\">\n",
      "      accept thought more\n",
      "     </h2>\n",
      "     <div class=\"grid grid-cols-2 italic\">\n",
      "      <p>\n",
      "       1979-04-21\n",
      "      </p>\n",
      "      <p class=\"text-right\">\n",
      "       By Matthew Miranda\n",
      "      </p>\n",
      "     </div>\n",
      "     <p>\n",
      "      Customer deal floor. Catch hit plant relationship away.\n",
      "Bill sure space pull technology. Entire front country worker fill.\n",
      "     </p>\n",
      "    </div>\n",
      "   </div>\n",
      "  </div>\n",
      " </body>\n",
      "</html>\n"
     ]
    }
   ],
   "source": [
    "soup = BeautifulSoup(html)\n",
    "print(soup.prettify())"
   ]
  },
  {
   "cell_type": "markdown",
   "metadata": {},
   "source": [
    "From here we can switch between the browser and python and try out different ways of getting different parts of the html document.\n",
    "\n",
    "We can leverage Google Chrome's developer tools by right clicking and choosing \"Inspect\". We can then use this html document inspector to help us with our web scraping."
   ]
  },
  {
   "cell_type": "code",
   "execution_count": null,
   "metadata": {},
   "outputs": [],
   "source": [
    "# Use beautifulsoup methods to extract necessary content from an article\n",
    "articles = "
   ]
  },
  {
   "cell_type": "markdown",
   "metadata": {},
   "source": [
    "Bringing it all together: Make a function"
   ]
  },
  {
   "cell_type": "code",
   "execution_count": null,
   "metadata": {},
   "outputs": [],
   "source": [
    "# def parse_news(article):\n",
    "#     headline = \n",
    "#     date = \n",
    "#     author = \n",
    "#     content = \n",
    "#     content = \n",
    "    \n",
    "#     return {\n",
    "#         'headline': headline, 'date': date, 'author': author,\n",
    "#         'content': content\n",
    "#     }"
   ]
  },
  {
   "cell_type": "code",
   "execution_count": null,
   "metadata": {},
   "outputs": [],
   "source": [
    "# loop through all the articles\n"
   ]
  },
  {
   "cell_type": "markdown",
   "metadata": {},
   "source": [
    "## Scraping People"
   ]
  },
  {
   "cell_type": "code",
   "execution_count": null,
   "metadata": {},
   "outputs": [],
   "source": [
    "response = requests.get('https://web-scraping-demo.zgulde.net/people', headers={'user-agent': 'Codeup DS Hoppper'})\n",
    "soup = BeautifulSoup(response.text)"
   ]
  },
  {
   "cell_type": "code",
   "execution_count": null,
   "metadata": {},
   "outputs": [],
   "source": []
  },
  {
   "cell_type": "code",
   "execution_count": null,
   "metadata": {},
   "outputs": [],
   "source": [
    "# def parse_person(person):\n",
    "#     name = \n",
    "#     quote = \n",
    "#     email = \n",
    "#     phone = \n",
    "#     address = \n",
    "\n",
    "    \n",
    "#     return {\n",
    "#         'name': name, 'quote': quote, 'email': email,\n",
    "#         'phone': phone,\n",
    "#         'address': address\n",
    "#     }"
   ]
  },
  {
   "cell_type": "code",
   "execution_count": null,
   "metadata": {},
   "outputs": [],
   "source": [
    "# loop through all the persons\n"
   ]
  },
  {
   "cell_type": "markdown",
   "metadata": {},
   "source": [
    "## Web Scraping Etiquitte\n",
    "\n",
    "- respect the `robots.txt` file if present\n",
    "\n",
    "    * [Wikipedia: Robots exclusion standard](https://en.wikipedia.org/wiki/Robots_exclusion_standard)\n",
    "    * [robotstxt.org](http://www.robotstxt.org/robotstxt.html)\n",
    "    * [codeup's robots.txt](https://codeup.com/robots.txt)\n",
    "\n",
    "- use a descriptive user agent\n",
    "\n",
    "    ```python\n",
    "    requests.get('http://example.com', headers={'user-agent': 'codeup data science germain cohort'})\n",
    "    ```"
   ]
  },
  {
   "cell_type": "markdown",
   "metadata": {},
   "source": [
    "## Exercises\n",
    "\n",
    "#### Codeup Blog Articles\n",
    "\n",
    "Visit Codeup's Blog(http://codeup.com/blog/) and record the urls for at least 5 distinct blog posts. For each post, you should scrape at least the post's title and content.\n",
    "\n",
    "Encapsulate your work in a function named get_blog_articles that will return a list of dictionaries, with each dictionary representing one article. The shape of each dictionary should look like this:"
   ]
  },
  {
   "cell_type": "code",
   "execution_count": null,
   "metadata": {},
   "outputs": [],
   "source": [
    "response = requests.get('https://codeup.com/blog/', headers={'user-agent': 'Codeup DS Hopper'})\n",
    "soup = BeautifulSoup(response.text)"
   ]
  },
  {
   "cell_type": "code",
   "execution_count": null,
   "metadata": {},
   "outputs": [],
   "source": []
  }
 ],
 "metadata": {
  "interpreter": {
   "hash": "38cca0c38332a56087b24af0bc80247f4fced29cb4f7f437d91dc159adec9c4e"
  },
  "kernelspec": {
   "display_name": "Python 3 (ipykernel)",
   "language": "python",
   "name": "python3"
  },
  "language_info": {
   "codemirror_mode": {
    "name": "ipython",
    "version": 3
   },
   "file_extension": ".py",
   "mimetype": "text/x-python",
   "name": "python",
   "nbconvert_exporter": "python",
   "pygments_lexer": "ipython3",
   "version": "3.9.7"
  }
 },
 "nbformat": 4,
 "nbformat_minor": 4
}
